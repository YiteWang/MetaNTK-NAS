{
 "cells": [
  {
   "cell_type": "code",
   "execution_count": 1,
   "metadata": {},
   "outputs": [],
   "source": [
    "import numpy as np\n",
    "import scipy\n",
    "import torch\n",
    "from metantk import get_analytical_metantk_n,check_symmetric"
   ]
  },
  {
   "cell_type": "code",
   "execution_count": 2,
   "metadata": {},
   "outputs": [],
   "source": [
    "n_tasks = 10\n",
    "n_queries = 5\n",
    "n_support = 10\n",
    "N = n_tasks*(n_queries+n_support)\n",
    "D_ntk = 1000\n",
    "D_K = 200\n",
    "grad = np.random.randn(N,D_ntk)\n",
    "ntk = np.matmul(grad, np.transpose(grad))\n",
    "grad = np.random.randn(N,D_K)\n",
    "K = np.matmul(grad, np.transpose(grad))\n",
    "ntk = torch.from_numpy(ntk)\n",
    "K = torch.from_numpy(K)"
   ]
  },
  {
   "cell_type": "code",
   "execution_count": 7,
   "metadata": {},
   "outputs": [
    {
     "data": {
      "text/plain": [
       "150"
      ]
     },
     "execution_count": 7,
     "metadata": {},
     "output_type": "execute_result"
    }
   ],
   "source": [
    "np.linalg.matrix_rank(K)"
   ]
  },
  {
   "cell_type": "code",
   "execution_count": 3,
   "metadata": {},
   "outputs": [],
   "source": [
    "result = get_analytical_metantk_n(ntk, K, n_tasks, n_queries, n_support, inner_lr_time=1, reg_coef=1e-3, algorithm='ANIL')"
   ]
  },
  {
   "cell_type": "code",
   "execution_count": 4,
   "metadata": {},
   "outputs": [
    {
     "data": {
      "text/plain": [
       "{'metantk': array([[1007.88965584,  -32.38164702,  -31.97877812, ...,    5.30027156,\n",
       "            2.07870873,   37.68027217],\n",
       "        [ -32.38164702, 1065.36747308,  -17.41538723, ...,  -56.67162961,\n",
       "          -17.8426898 ,  -31.2356895 ],\n",
       "        [ -31.97877812,  -17.41538723, 1047.2717075 , ...,  -47.0635837 ,\n",
       "            7.61168848,   24.41002514],\n",
       "        ...,\n",
       "        [   5.30027156,  -56.67162961,  -47.0635837 , ..., 1008.23734564,\n",
       "          -50.74651123,   12.27198125],\n",
       "        [   2.07870873,  -17.8426898 ,    7.61168848, ...,  -50.74651123,\n",
       "         1182.44392767,  -16.24570712],\n",
       "        [  37.68027217,  -31.2356895 ,   24.41002514, ...,   12.27198125,\n",
       "          -16.24570712,  921.09015251]]),\n",
       " 'eigenvalues': array([ 641.96964711,  669.22847567,  687.57091895,  713.29101724,\n",
       "         739.1053324 ,  751.44989869,  771.39610582,  781.90397226,\n",
       "         814.47845034,  821.26775373,  836.61040734,  850.28986802,\n",
       "         857.46909142,  875.49676558,  889.59759649,  901.79305259,\n",
       "         919.61371814,  939.47265872,  946.91758548,  955.73719118,\n",
       "         980.94519674, 1007.23893921, 1018.03949701, 1031.14224978,\n",
       "        1037.32058679, 1053.67300246, 1059.12098904, 1081.4282596 ,\n",
       "        1098.5623824 , 1114.73258368, 1121.9328007 , 1134.57518305,\n",
       "        1154.2962264 , 1175.16227106, 1184.90156945, 1202.97946011,\n",
       "        1213.41754243, 1241.95945499, 1262.99493235, 1271.09277241,\n",
       "        1283.97616971, 1307.39140311, 1327.17502647, 1374.34725423,\n",
       "        1402.59562677, 1438.15132772, 1469.79654234, 1485.07734017,\n",
       "        1505.21843646, 1574.42802538])}"
      ]
     },
     "execution_count": 4,
     "metadata": {},
     "output_type": "execute_result"
    }
   ],
   "source": [
    "result"
   ]
  },
  {
   "cell_type": "code",
   "execution_count": 18,
   "metadata": {},
   "outputs": [
    {
     "data": {
      "text/plain": [
       "[[array([[ 0,  1,  2,  3,  4],\n",
       "         [10, 11, 12, 13, 14],\n",
       "         [20, 21, 22, 23, 24]]),\n",
       "  array([[ 5,  6,  7,  8,  9],\n",
       "         [15, 16, 17, 18, 19],\n",
       "         [25, 26, 27, 28, 29]])],\n",
       " [array([[30, 31, 32, 33, 34],\n",
       "         [40, 41, 42, 43, 44],\n",
       "         [50, 51, 52, 53, 54]]),\n",
       "  array([[35, 36, 37, 38, 39],\n",
       "         [45, 46, 47, 48, 49],\n",
       "         [55, 56, 57, 58, 59]])]]"
      ]
     },
     "execution_count": 18,
     "metadata": {},
     "output_type": "execute_result"
    }
   ],
   "source": [
    "[np.hsplit(sub_K,2) for sub_K in K_vsplit]"
   ]
  },
  {
   "cell_type": "code",
   "execution_count": 24,
   "metadata": {},
   "outputs": [
    {
     "data": {
      "text/plain": [
       "array([[ 3,  4,  5,  6,  7,  8,  9],\n",
       "       [13, 14, 15, 16, 17, 18, 19],\n",
       "       [23, 24, 25, 26, 27, 28, 29]])"
      ]
     },
     "execution_count": 24,
     "metadata": {},
     "output_type": "execute_result"
    }
   ],
   "source": [
    "K[:3,3:]"
   ]
  },
  {
   "cell_type": "code",
   "execution_count": null,
   "metadata": {},
   "outputs": [],
   "source": []
  }
 ],
 "metadata": {
  "kernelspec": {
   "display_name": "Python 3",
   "language": "python",
   "name": "python3"
  },
  "language_info": {
   "codemirror_mode": {
    "name": "ipython",
    "version": 3
   },
   "file_extension": ".py",
   "mimetype": "text/x-python",
   "name": "python",
   "nbconvert_exporter": "python",
   "pygments_lexer": "ipython3",
   "version": "3.7.4"
  }
 },
 "nbformat": 4,
 "nbformat_minor": 4
}
